{
 "cells": [
  {
   "cell_type": "code",
   "execution_count": null,
   "metadata": {},
   "outputs": [],
   "source": [
    "!git clone https://github.com/ultralytics/yolov5.git"
   ]
  },
  {
   "cell_type": "code",
   "execution_count": null,
   "metadata": {},
   "outputs": [],
   "source": [
    "!pip install utils"
   ]
  },
  {
   "cell_type": "code",
   "execution_count": null,
   "metadata": {},
   "outputs": [],
   "source": [
    "!git clone https://github.com/ultralytics/yolov5.git\n",
    "!pip install -qr yolov5/requirements.txt\n",
    "\n",
    "%cd yolov5\n",
    "\n",
    "import torch\n",
    "from IPython.display import Image, clear_output\n",
    "\n",
    "# Check if google_utils.py exists within yolov5/utils\n",
    "import os\n",
    "if os.path.exists('utils/google_utils.py'):\n",
    "    # If it exists, import gdrive_download from it\n",
    "    from yolov5.utils.google_utils import gdrive_download\n",
    "else:\n",
    "    # If not, print an informative message\n",
    "    print(\"Error: google_utils.py not found in yolov5/utils. Please check your yolov5 installation.\")"
   ]
  },
  {
   "cell_type": "code",
   "execution_count": null,
   "metadata": {},
   "outputs": [],
   "source": [
    "custom_yaml = \"\"\"\n",
    "# parameters\n",
    "nc: 1  # number of classes\n",
    "depth_multiple: 0.33\n",
    "width_multiple: 0.50\n",
    "\n",
    "anchors:\n",
    "  - [10,13, 16,30, 33,23]\n",
    "  - [30,61, 62,45, 59,119]\n",
    "  - [116,90, 156,198, 373,326]\n",
    "\n",
    "backbone:\n",
    "  [[-1, 1, Focus, [64, 3]],\n",
    "   [-1, 1, Conv, [128, 3, 2]],\n",
    "   [-1, 3, C3, [128]],\n",
    "   [-1, 1, Conv, [256, 3, 2]],\n",
    "   [-1, 9, C3, [256]],\n",
    "   [-1, 1, Conv, [512, 3, 2]],\n",
    "   [-1, 9, C3, [512]],\n",
    "   [-1, 1, Conv, [1024, 3, 2]],\n",
    "   [-1, 1, SPP, [1024, [5, 9, 13]]],\n",
    "   [-1, 3, C3, [1024, False]],\n",
    "  ]\n",
    "\n",
    "head:\n",
    "  [[-1, 1, Conv, [512, 1, 1]],\n",
    "   [-1, 1, nn.Upsample, [None, 2, 'nearest']],\n",
    "   [[-1, 6], 1, Concat, [1]],\n",
    "   [-1, 3, C3, [512, False]],\n",
    "\n",
    "   [-1, 1, Conv, [256, 1, 1]],\n",
    "   [-1, 1, nn.Upsample, [None, 2, 'nearest']],\n",
    "   [[-1, 4], 1, Concat, [1]],\n",
    "   [-1, 3, C3, [256, False]],\n",
    "\n",
    "   [-1, 1, Conv, [256, 3, 2]],\n",
    "   [[-1, 14], 1, Concat, [1]],\n",
    "   [-1, 3, C3, [512, False]],\n",
    "\n",
    "   [-1, 1, Conv, [512, 3, 2]],\n",
    "   [[-1, 10], 1, Concat, [1]],\n",
    "   [-1, 3, C3, [1024, False]],\n",
    "\n",
    "   [[17, 20, 23], 1, Detect, [1, anchors]],\n",
    "  ]\n",
    "\n",
    "names: ['smoke']\n",
    "\"\"\"\n",
    "\n",
    "with open('/content/yolov5/models/custom_yolov5s.yaml', 'w') as f:\n",
    "    f.write(custom_yaml)\n"
   ]
  },
  {
   "cell_type": "code",
   "execution_count": null,
   "metadata": {},
   "outputs": [],
   "source": [
    "from google.colab import drive\n",
    "drive.mount('/content/gdrive')"
   ]
  },
  {
   "cell_type": "code",
   "execution_count": null,
   "metadata": {},
   "outputs": [],
   "source": [
    "!/usr/local/cuda/bin/nvcc --version\n",
    "\n",
    "!nvidia-smi"
   ]
  },
  {
   "cell_type": "code",
   "execution_count": null,
   "metadata": {},
   "outputs": [],
   "source": [
    "!curl -L \"https://public.roboflow.com/ds/oI2NqrxPDN?key=Vzd75wS6co\" > roboflow.zip; unzip roboflow.zip; rm roboflow.zip"
   ]
  },
  {
   "cell_type": "code",
   "execution_count": null,
   "metadata": {},
   "outputs": [],
   "source": [
    "%cat data.yaml"
   ]
  },
  {
   "cell_type": "code",
   "execution_count": null,
   "metadata": {},
   "outputs": [],
   "source": [
    "import yaml\n",
    "with open('data.yaml', 'r') as stream:\n",
    "  num_classes = str(yaml.safe_load(stream)['nc'])"
   ]
  },
  {
   "cell_type": "code",
   "execution_count": null,
   "metadata": {},
   "outputs": [],
   "source": [
    "num_classes"
   ]
  },
  {
   "cell_type": "code",
   "execution_count": null,
   "metadata": {},
   "outputs": [],
   "source": [
    "%cd /content/yolov5/models\n",
    "%ls\n",
    "!cp models/yolov5s.yaml models/custom_yolov5s.yaml"
   ]
  },
  {
   "cell_type": "code",
   "execution_count": null,
   "metadata": {},
   "outputs": [],
   "source": [
    "%cd /content/yolov5/\n",
    "!python train.py --img 640 --batch 16 --epochs 500 --data data.yaml --cfg models/custom_yolov5s.yaml --weights yolov5s.pt --name wildfire_detector"
   ]
  },
  {
   "cell_type": "code",
   "execution_count": null,
   "metadata": {},
   "outputs": [],
   "source": [
    "%ls runs/train/wildfire_detector/weights/\n",
    "\n",
    "!cp /content/yolov5/runs/train/wildfire_detector/weights/best.pt /content/best.pt\n",
    "\n",
    "from google.colab import files\n",
    "files.download('/content/best.pt')"
   ]
  }
 ],
 "metadata": {
  "language_info": {
   "name": "python"
  }
 },
 "nbformat": 4,
 "nbformat_minor": 2
}
